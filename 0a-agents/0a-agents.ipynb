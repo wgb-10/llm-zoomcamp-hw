{
 "cells": [
  {
   "cell_type": "markdown",
   "id": "bea32ce1",
   "metadata": {},
   "source": [
    "# Homework: Agents"
   ]
  },
  {
   "cell_type": "markdown",
   "id": "6cb5d913",
   "metadata": {},
   "source": [
    "## Preparation\n",
    "First, we'll define a function that we will use when building our agent.\n",
    "\n",
    "It will generate fake weather data:\n"
   ]
  },
  {
   "cell_type": "code",
   "execution_count": 1,
   "id": "2e0546b2",
   "metadata": {},
   "outputs": [],
   "source": [
    "import random\n",
    "\n",
    "known_weather_data = {\"berlin\": 20.0}\n",
    "\n",
    "\n",
    "def get_weather(city: str) -> float:\n",
    "    city = city.strip().lower()\n",
    "\n",
    "    if city in known_weather_data:\n",
    "        return known_weather_data[city]\n",
    "\n",
    "    return round(random.uniform(-5, 35), 1)"
   ]
  },
  {
   "cell_type": "markdown",
   "id": "d7e0f937",
   "metadata": {},
   "source": [
    "### Q1. Define function description\n",
    "We want to use it as a tool for our agent, so we need to describe it"
   ]
  },
  {
   "cell_type": "code",
   "execution_count": null,
   "id": "57d07bb0",
   "metadata": {},
   "outputs": [],
   "source": [
    "get_weather_tool = {\n",
    "    \"type\": \"function\",\n",
    "    \"name\": \"get_weather\",\n",
    "    \"description\": \"Returns the weather in degrees Celsius for the given city\",\n",
    "    \"parameters\": {\n",
    "        \"type\": \"object\",\n",
    "        \"properties\": {\"city\": {\"type\": \"string\", \"description\": \"Name of the city to get the weather information for\"}},\n",
    "        \"required\": [\"city\"],\n",
    "        \"additionalProperties\": False,\n",
    "    },\n",
    "}"
   ]
  },
  {
   "cell_type": "markdown",
   "id": "4a461416",
   "metadata": {},
   "source": [
    "TODO3 is \"city\""
   ]
  },
  {
   "cell_type": "markdown",
   "id": "0bcdce7b",
   "metadata": {},
   "source": [
    "### Q2. Adding another tool"
   ]
  },
  {
   "cell_type": "code",
   "execution_count": null,
   "id": "73e9893b",
   "metadata": {},
   "outputs": [],
   "source": [
    "def set_weather(city: str, temp: float) -> None:\n",
    "    city = city.strip().lower()\n",
    "    known_weather_data[city] = temp\n",
    "    return 'OK'"
   ]
  },
  {
   "cell_type": "code",
   "execution_count": null,
   "id": "86bf81d3",
   "metadata": {},
   "outputs": [],
   "source": [
    "set_weather = {\n",
    "    \"type\": \"function\",\n",
    "    \"name\": \"set_weather\",\n",
    "    \"description\": \"Sets the weather of a city in degrees Celsius\",\n",
    "    \"parameters\": {\n",
    "        \"type\": \"object\",\n",
    "        \"properties\": {\n",
    "            \"city\": {\n",
    "                \"type\": \"string\",\n",
    "                \"description\": \"Name of the city to set the weather information for\",\n",
    "            },\n",
    "            \"temp\": {\n",
    "                \"type\": \"number\",\n",
    "                \"description\": \"The temperature value in degrees Celsius, that the city should be set to\",\n",
    "            },\n",
    "        },\n",
    "        \"required\": [\"city\", \"temp\"],\n",
    "        \"additionalProperties\": False,\n",
    "    },\n",
    "}"
   ]
  },
  {
   "cell_type": "markdown",
   "id": "17612ba6",
   "metadata": {},
   "source": [
    "### Q3. Install FastMCP"
   ]
  },
  {
   "cell_type": "code",
   "execution_count": 1,
   "id": "9e99480e",
   "metadata": {},
   "outputs": [
    {
     "name": "stdout",
     "output_type": "stream",
     "text": [
      "Collecting fastmcp\n",
      "  Using cached fastmcp-2.10.5-py3-none-any.whl.metadata (17 kB)\n",
      "Collecting authlib>=1.5.2 (from fastmcp)\n",
      "  Using cached authlib-1.6.0-py2.py3-none-any.whl.metadata (4.1 kB)\n",
      "Collecting cyclopts>=3.0.0 (from fastmcp)\n",
      "  Using cached cyclopts-3.22.2-py3-none-any.whl.metadata (11 kB)\n",
      "Requirement already satisfied: exceptiongroup>=1.2.2 in /home/wgb/miniconda3/envs/llm-zoomcamp/lib/python3.10/site-packages (from fastmcp) (1.3.0)\n",
      "Requirement already satisfied: httpx>=0.28.1 in /home/wgb/miniconda3/envs/llm-zoomcamp/lib/python3.10/site-packages (from fastmcp) (0.28.1)\n",
      "Collecting mcp>=1.10.0 (from fastmcp)\n",
      "  Using cached mcp-1.11.0-py3-none-any.whl.metadata (44 kB)\n",
      "Collecting openapi-pydantic>=0.5.1 (from fastmcp)\n",
      "  Using cached openapi_pydantic-0.5.1-py3-none-any.whl.metadata (10 kB)\n",
      "Collecting pydantic>=2.11.7 (from pydantic[email]>=2.11.7->fastmcp)\n",
      "  Using cached pydantic-2.11.7-py3-none-any.whl.metadata (67 kB)\n",
      "Collecting pyperclip>=1.9.0 (from fastmcp)\n",
      "  Using cached pyperclip-1.9.0.tar.gz (20 kB)\n",
      "  Preparing metadata (setup.py) ... \u001b[?25ldone\n",
      "\u001b[?25hCollecting python-dotenv>=1.1.0 (from fastmcp)\n",
      "  Using cached python_dotenv-1.1.1-py3-none-any.whl.metadata (24 kB)\n",
      "Requirement already satisfied: rich>=13.9.4 in /home/wgb/miniconda3/envs/llm-zoomcamp/lib/python3.10/site-packages (from fastmcp) (14.0.0)\n",
      "Collecting cryptography (from authlib>=1.5.2->fastmcp)\n",
      "  Downloading cryptography-45.0.5-cp37-abi3-manylinux_2_34_x86_64.whl.metadata (5.7 kB)\n",
      "Requirement already satisfied: attrs>=23.1.0 in /home/wgb/miniconda3/envs/llm-zoomcamp/lib/python3.10/site-packages (from cyclopts>=3.0.0->fastmcp) (25.3.0)\n",
      "Collecting docstring-parser>=0.15 (from cyclopts>=3.0.0->fastmcp)\n",
      "  Using cached docstring_parser-0.16-py3-none-any.whl.metadata (3.0 kB)\n",
      "Collecting rich-rst<2.0.0,>=1.3.1 (from cyclopts>=3.0.0->fastmcp)\n",
      "  Using cached rich_rst-1.3.1-py3-none-any.whl.metadata (6.0 kB)\n",
      "Requirement already satisfied: typing-extensions>=4.8.0 in /home/wgb/miniconda3/envs/llm-zoomcamp/lib/python3.10/site-packages (from cyclopts>=3.0.0->fastmcp) (4.14.0)\n",
      "Collecting docutils (from rich-rst<2.0.0,>=1.3.1->cyclopts>=3.0.0->fastmcp)\n",
      "  Using cached docutils-0.21.2-py3-none-any.whl.metadata (2.8 kB)\n",
      "Requirement already satisfied: anyio in /home/wgb/miniconda3/envs/llm-zoomcamp/lib/python3.10/site-packages (from httpx>=0.28.1->fastmcp) (4.9.0)\n",
      "Requirement already satisfied: certifi in /home/wgb/miniconda3/envs/llm-zoomcamp/lib/python3.10/site-packages (from httpx>=0.28.1->fastmcp) (2025.4.26)\n",
      "Requirement already satisfied: httpcore==1.* in /home/wgb/miniconda3/envs/llm-zoomcamp/lib/python3.10/site-packages (from httpx>=0.28.1->fastmcp) (1.0.9)\n",
      "Requirement already satisfied: idna in /home/wgb/miniconda3/envs/llm-zoomcamp/lib/python3.10/site-packages (from httpx>=0.28.1->fastmcp) (3.10)\n",
      "Requirement already satisfied: h11>=0.16 in /home/wgb/miniconda3/envs/llm-zoomcamp/lib/python3.10/site-packages (from httpcore==1.*->httpx>=0.28.1->fastmcp) (0.16.0)\n",
      "Collecting httpx-sse>=0.4 (from mcp>=1.10.0->fastmcp)\n",
      "  Using cached httpx_sse-0.4.1-py3-none-any.whl.metadata (9.4 kB)\n",
      "Requirement already satisfied: jsonschema>=4.20.0 in /home/wgb/miniconda3/envs/llm-zoomcamp/lib/python3.10/site-packages (from mcp>=1.10.0->fastmcp) (4.24.0)\n",
      "Collecting pydantic-settings>=2.5.2 (from mcp>=1.10.0->fastmcp)\n",
      "  Using cached pydantic_settings-2.10.1-py3-none-any.whl.metadata (3.4 kB)\n",
      "Collecting python-multipart>=0.0.9 (from mcp>=1.10.0->fastmcp)\n",
      "  Using cached python_multipart-0.0.20-py3-none-any.whl.metadata (1.8 kB)\n",
      "Collecting sse-starlette>=1.6.1 (from mcp>=1.10.0->fastmcp)\n",
      "  Using cached sse_starlette-2.4.1-py3-none-any.whl.metadata (10 kB)\n",
      "Collecting starlette>=0.27 (from mcp>=1.10.0->fastmcp)\n",
      "  Using cached starlette-0.47.1-py3-none-any.whl.metadata (6.2 kB)\n",
      "Collecting uvicorn>=0.23.1 (from mcp>=1.10.0->fastmcp)\n",
      "  Using cached uvicorn-0.35.0-py3-none-any.whl.metadata (6.5 kB)\n",
      "Requirement already satisfied: annotated-types>=0.6.0 in /home/wgb/miniconda3/envs/llm-zoomcamp/lib/python3.10/site-packages (from pydantic>=2.11.7->pydantic[email]>=2.11.7->fastmcp) (0.7.0)\n",
      "Requirement already satisfied: pydantic-core==2.33.2 in /home/wgb/miniconda3/envs/llm-zoomcamp/lib/python3.10/site-packages (from pydantic>=2.11.7->pydantic[email]>=2.11.7->fastmcp) (2.33.2)\n",
      "Requirement already satisfied: typing-inspection>=0.4.0 in /home/wgb/miniconda3/envs/llm-zoomcamp/lib/python3.10/site-packages (from pydantic>=2.11.7->pydantic[email]>=2.11.7->fastmcp) (0.4.1)\n",
      "Requirement already satisfied: sniffio>=1.1 in /home/wgb/miniconda3/envs/llm-zoomcamp/lib/python3.10/site-packages (from anyio->httpx>=0.28.1->fastmcp) (1.3.1)\n",
      "Requirement already satisfied: jsonschema-specifications>=2023.03.6 in /home/wgb/miniconda3/envs/llm-zoomcamp/lib/python3.10/site-packages (from jsonschema>=4.20.0->mcp>=1.10.0->fastmcp) (2025.4.1)\n",
      "Requirement already satisfied: referencing>=0.28.4 in /home/wgb/miniconda3/envs/llm-zoomcamp/lib/python3.10/site-packages (from jsonschema>=4.20.0->mcp>=1.10.0->fastmcp) (0.36.2)\n",
      "Requirement already satisfied: rpds-py>=0.7.1 in /home/wgb/miniconda3/envs/llm-zoomcamp/lib/python3.10/site-packages (from jsonschema>=4.20.0->mcp>=1.10.0->fastmcp) (0.25.1)\n",
      "Collecting email-validator>=2.0.0 (from pydantic[email]>=2.11.7->fastmcp)\n",
      "  Using cached email_validator-2.2.0-py3-none-any.whl.metadata (25 kB)\n",
      "Collecting dnspython>=2.0.0 (from email-validator>=2.0.0->pydantic[email]>=2.11.7->fastmcp)\n",
      "  Using cached dnspython-2.7.0-py3-none-any.whl.metadata (5.8 kB)\n",
      "Requirement already satisfied: markdown-it-py>=2.2.0 in /home/wgb/miniconda3/envs/llm-zoomcamp/lib/python3.10/site-packages (from rich>=13.9.4->fastmcp) (3.0.0)\n",
      "Requirement already satisfied: pygments<3.0.0,>=2.13.0 in /home/wgb/miniconda3/envs/llm-zoomcamp/lib/python3.10/site-packages (from rich>=13.9.4->fastmcp) (2.19.1)\n",
      "Requirement already satisfied: mdurl~=0.1 in /home/wgb/miniconda3/envs/llm-zoomcamp/lib/python3.10/site-packages (from markdown-it-py>=2.2.0->rich>=13.9.4->fastmcp) (0.1.2)\n",
      "Requirement already satisfied: click>=7.0 in /home/wgb/miniconda3/envs/llm-zoomcamp/lib/python3.10/site-packages (from uvicorn>=0.23.1->mcp>=1.10.0->fastmcp) (8.2.1)\n",
      "Requirement already satisfied: cffi>=1.14 in /home/wgb/miniconda3/envs/llm-zoomcamp/lib/python3.10/site-packages (from cryptography->authlib>=1.5.2->fastmcp) (1.17.1)\n",
      "Requirement already satisfied: pycparser in /home/wgb/miniconda3/envs/llm-zoomcamp/lib/python3.10/site-packages (from cffi>=1.14->cryptography->authlib>=1.5.2->fastmcp) (2.22)\n",
      "Using cached fastmcp-2.10.5-py3-none-any.whl (201 kB)\n",
      "Using cached authlib-1.6.0-py2.py3-none-any.whl (239 kB)\n",
      "Using cached cyclopts-3.22.2-py3-none-any.whl (84 kB)\n",
      "Using cached rich_rst-1.3.1-py3-none-any.whl (11 kB)\n",
      "Using cached docstring_parser-0.16-py3-none-any.whl (36 kB)\n",
      "Using cached mcp-1.11.0-py3-none-any.whl (155 kB)\n",
      "Using cached pydantic-2.11.7-py3-none-any.whl (444 kB)\n",
      "Using cached httpx_sse-0.4.1-py3-none-any.whl (8.1 kB)\n",
      "Using cached openapi_pydantic-0.5.1-py3-none-any.whl (96 kB)\n",
      "Using cached pydantic_settings-2.10.1-py3-none-any.whl (45 kB)\n",
      "Using cached email_validator-2.2.0-py3-none-any.whl (33 kB)\n",
      "Using cached dnspython-2.7.0-py3-none-any.whl (313 kB)\n",
      "Using cached python_dotenv-1.1.1-py3-none-any.whl (20 kB)\n",
      "Using cached python_multipart-0.0.20-py3-none-any.whl (24 kB)\n",
      "Using cached sse_starlette-2.4.1-py3-none-any.whl (10 kB)\n",
      "Using cached starlette-0.47.1-py3-none-any.whl (72 kB)\n",
      "Using cached uvicorn-0.35.0-py3-none-any.whl (66 kB)\n",
      "Downloading cryptography-45.0.5-cp37-abi3-manylinux_2_34_x86_64.whl (4.4 MB)\n",
      "\u001b[2K   \u001b[90m━━━━━━━━━━━━━━━━━━━━━━━━━━━━━━━━━━━━━━━━\u001b[0m \u001b[32m4.4/4.4 MB\u001b[0m \u001b[31m54.2 MB/s\u001b[0m eta \u001b[36m0:00:00\u001b[0m\n",
      "\u001b[?25hUsing cached docutils-0.21.2-py3-none-any.whl (587 kB)\n",
      "Building wheels for collected packages: pyperclip\n",
      "\u001b[33m  DEPRECATION: Building 'pyperclip' using the legacy setup.py bdist_wheel mechanism, which will be removed in a future version. pip 25.3 will enforce this behaviour change. A possible replacement is to use the standardized build interface by setting the `--use-pep517` option, (possibly combined with `--no-build-isolation`), or adding a `pyproject.toml` file to the source tree of 'pyperclip'. Discussion can be found at https://github.com/pypa/pip/issues/6334\u001b[0m\u001b[33m\n",
      "\u001b[0m  Building wheel for pyperclip (setup.py) ... \u001b[?25ldone\n",
      "\u001b[?25h  Created wheel for pyperclip: filename=pyperclip-1.9.0-py3-none-any.whl size=11103 sha256=3165975845d1629519c560a8fc1c9711c6b1b208acb911e721a127989ea97f12\n",
      "  Stored in directory: /home/wgb/.cache/pip/wheels/cc/ae/36/ee17d1de094fcb61e24106cb329b5103861e819f94bef5e10a\n",
      "Successfully built pyperclip\n",
      "Installing collected packages: pyperclip, uvicorn, python-multipart, python-dotenv, httpx-sse, docutils, docstring-parser, dnspython, pydantic, email-validator, cryptography, starlette, sse-starlette, rich-rst, pydantic-settings, openapi-pydantic, authlib, mcp, cyclopts, fastmcp\n",
      "\u001b[2K  Attempting uninstall: pydantic\u001b[0m\u001b[90m━━━━━━━━━━━━━━━━━━━━━━━━━\u001b[0m \u001b[32m 7/20\u001b[0m [dnspython]parser]\n",
      "\u001b[2K    Found existing installation: pydantic 2.11.5━━━━━━━━━━━━━━\u001b[0m \u001b[32m 7/20\u001b[0m [dnspython]\n",
      "\u001b[2K    Uninstalling pydantic-2.11.5:[90m━━━━━━━━━━━━━━━━━━━━━━━━━\u001b[0m \u001b[32m 7/20\u001b[0m [dnspython]\n",
      "\u001b[2K      Successfully uninstalled pydantic-2.11.5━━━━━━━━━━━━━━━━\u001b[0m \u001b[32m 7/20\u001b[0m [dnspython]\n",
      "\u001b[2K   \u001b[90m━━━━━━━━━━━━━━━━━━━━━━━━━━━━━━━━━━━━━━━━\u001b[0m \u001b[32m20/20\u001b[0m [fastmcp]9/20\u001b[0m [fastmcp]]]hy]\n",
      "\u001b[1A\u001b[2KSuccessfully installed authlib-1.6.0 cryptography-45.0.5 cyclopts-3.22.2 dnspython-2.7.0 docstring-parser-0.16 docutils-0.21.2 email-validator-2.2.0 fastmcp-2.10.5 httpx-sse-0.4.1 mcp-1.11.0 openapi-pydantic-0.5.1 pydantic-2.11.7 pydantic-settings-2.10.1 pyperclip-1.9.0 python-dotenv-1.1.1 python-multipart-0.0.20 rich-rst-1.3.1 sse-starlette-2.4.1 starlette-0.47.1 uvicorn-0.35.0\n"
     ]
    }
   ],
   "source": [
    "!pip install fastmcp"
   ]
  },
  {
   "cell_type": "code",
   "execution_count": 2,
   "id": "d8d70b21",
   "metadata": {},
   "outputs": [
    {
     "name": "stdout",
     "output_type": "stream",
     "text": [
      "\u001b[1mFastMCP version:  \u001b[0m\u001b[1m \u001b[0m\u001b[36m                                                       2.10.5\u001b[0m\n",
      "\u001b[1mMCP version:      \u001b[0m\u001b[1m \u001b[0m\u001b[36m                                                       1.11.0\u001b[0m\n",
      "\u001b[1mPython version:   \u001b[0m\u001b[1m \u001b[0m\u001b[36m                                                      3.10.16\u001b[0m\n",
      "\u001b[1mPlatform:         \u001b[0m\u001b[1m \u001b[0m\u001b[36m Linux-6.6.87.2-microsoft-standard-WSL2-x86_64-with-glibc2.39\u001b[0m\n",
      "\u001b[1mFastMCP root path:\u001b[0m\u001b[1m \u001b[0m\u001b[36m/home/wgb/miniconda3/envs/llm-zoomcamp/lib/python3.10/site-p…\u001b[0m\n"
     ]
    }
   ],
   "source": [
    "!fastmcp version"
   ]
  },
  {
   "cell_type": "markdown",
   "id": "7ba086c5",
   "metadata": {},
   "source": [
    "### Q4. Simple MCP Server"
   ]
  },
  {
   "cell_type": "code",
   "execution_count": 4,
   "id": "676e0812",
   "metadata": {},
   "outputs": [
    {
     "name": "stdout",
     "output_type": "stream",
     "text": [
      "\n",
      "\n",
      "\u001b[2m╭─\u001b[0m\u001b[2m FastMCP 2.0 \u001b[0m\u001b[2m─────────────────────────────────────────────────────────────\u001b[0m\u001b[2m─╮\u001b[0m\n",
      "\u001b[2m│\u001b[0m                                                                            \u001b[2m│\u001b[0m\n",
      "\u001b[2m│\u001b[0m    \u001b[1;32m    _ __ ___ ______           __  __  _____________    ____    ____ \u001b[0m    \u001b[2m│\u001b[0m\n",
      "\u001b[2m│\u001b[0m    \u001b[1;32m   _ __ ___ / ____/___ ______/ /_/  |/  / ____/ __ \\  |___ \\  / __ \\\u001b[0m    \u001b[2m│\u001b[0m\n",
      "\u001b[2m│\u001b[0m    \u001b[1;32m  _ __ ___ / /_  / __ `/ ___/ __/ /|_/ / /   / /_/ /  ___/ / / / / /\u001b[0m    \u001b[2m│\u001b[0m\n",
      "\u001b[2m│\u001b[0m    \u001b[1;32m _ __ ___ / __/ / /_/ (__  ) /_/ /  / / /___/ ____/  /  __/_/ /_/ / \u001b[0m    \u001b[2m│\u001b[0m\n",
      "\u001b[2m│\u001b[0m    \u001b[1;32m_ __ ___ /_/    \\__,_/____/\\__/_/  /_/\\____/_/      /_____(_)____/  \u001b[0m    \u001b[2m│\u001b[0m\n",
      "\u001b[2m│\u001b[0m                                                                            \u001b[2m│\u001b[0m\n",
      "\u001b[2m│\u001b[0m                                                                            \u001b[2m│\u001b[0m\n",
      "\u001b[2m│\u001b[0m                                                                            \u001b[2m│\u001b[0m\n",
      "\u001b[2m│\u001b[0m    \u001b[1m🖥️ \u001b[0m\u001b[1m \u001b[0m\u001b[1;36mServer name:    \u001b[0m\u001b[1;36m \u001b[0m\u001b[37mDemo 🚀              \u001b[0m                               \u001b[2m│\u001b[0m\n",
      "\u001b[2m│\u001b[0m    \u001b[1m📦\u001b[0m\u001b[1m \u001b[0m\u001b[1;36mTransport:      \u001b[0m\u001b[1;36m \u001b[0m\u001b[37mSTDIO                \u001b[0m                               \u001b[2m│\u001b[0m\n",
      "\u001b[2m│\u001b[0m    \u001b[1m  \u001b[0m\u001b[1m \u001b[0m\u001b[1;36m                \u001b[0m\u001b[1;36m \u001b[0m\u001b[37m                     \u001b[0m                               \u001b[2m│\u001b[0m\n",
      "\u001b[2m│\u001b[0m    \u001b[1m📚\u001b[0m\u001b[1m \u001b[0m\u001b[1;36mDocs:           \u001b[0m\u001b[1;36m \u001b[0m\u001b[37mhttps://gofastmcp.com\u001b[0m                               \u001b[2m│\u001b[0m\n",
      "\u001b[2m│\u001b[0m    \u001b[1m🚀\u001b[0m\u001b[1m \u001b[0m\u001b[1;36mDeploy:         \u001b[0m\u001b[1;36m \u001b[0m\u001b[37mhttps://fastmcp.cloud\u001b[0m                               \u001b[2m│\u001b[0m\n",
      "\u001b[2m│\u001b[0m    \u001b[1m  \u001b[0m\u001b[1m \u001b[0m\u001b[1;36m                \u001b[0m\u001b[1;36m \u001b[0m\u001b[37m                     \u001b[0m                               \u001b[2m│\u001b[0m\n",
      "\u001b[2m│\u001b[0m    \u001b[1m🏎️ \u001b[0m\u001b[1m \u001b[0m\u001b[1;36mFastMCP version:\u001b[0m\u001b[1;36m \u001b[0m\u001b[2;37m2.10.5               \u001b[0m                               \u001b[2m│\u001b[0m\n",
      "\u001b[2m│\u001b[0m    \u001b[1m🤝\u001b[0m\u001b[1m \u001b[0m\u001b[1;36mMCP version:    \u001b[0m\u001b[1;36m \u001b[0m\u001b[2;37m1.11.0               \u001b[0m                               \u001b[2m│\u001b[0m\n",
      "\u001b[2m│\u001b[0m                                                                            \u001b[2m│\u001b[0m\n",
      "\u001b[2m╰────────────────────────────────────────────────────────────────────────────╯\u001b[0m\n",
      "\n",
      "\n",
      "\u001b[2;36m[07/15/25 22:12:02]\u001b[0m\u001b[2;36m \u001b[0m\u001b[34mINFO    \u001b[0m Starting MCP server \u001b[32m'Demo 🚀'\u001b[0m with   \u001b]8;id=580391;file:///home/wgb/miniconda3/envs/llm-zoomcamp/lib/python3.10/site-packages/fastmcp/server/server.py\u001b\\\u001b[2mserver.py\u001b[0m\u001b]8;;\u001b\\\u001b[2m:\u001b[0m\u001b]8;id=326692;file:///home/wgb/miniconda3/envs/llm-zoomcamp/lib/python3.10/site-packages/fastmcp/server/server.py#1371\u001b\\\u001b[2m1371\u001b[0m\u001b]8;;\u001b\\\n",
      "\u001b[2;36m                    \u001b[0m         transport \u001b[32m'stdio'\u001b[0m                    \u001b[2m              \u001b[0m\n",
      "^C\n",
      "Traceback (most recent call last):\n",
      "  File \"/home/wgb/llm-zoomcamp-hw/0a-agents/weather_server.py\", line 47, in <module>\n",
      "    mcp.run()\n",
      "  File \"/home/wgb/miniconda3/envs/llm-zoomcamp/lib/python3.10/site-packages/fastmcp/server/server.py\", line 328, in run\n",
      "    anyio.run(\n",
      "  File \"/home/wgb/miniconda3/envs/llm-zoomcamp/lib/python3.10/site-packages/anyio/_core/_eventloop.py\", line 74, in run\n",
      "    return async_backend.run(func, args, {}, backend_options)\n",
      "  File \"/home/wgb/miniconda3/envs/llm-zoomcamp/lib/python3.10/site-packages/anyio/_backends/_asyncio.py\", line 2310, in run\n",
      "    return runner.run(wrapper())\n",
      "  File \"/home/wgb/miniconda3/envs/llm-zoomcamp/lib/python3.10/site-packages/anyio/_backends/_asyncio.py\", line 217, in run\n",
      "    return self._loop.run_until_complete(task)\n",
      "  File \"/home/wgb/miniconda3/envs/llm-zoomcamp/lib/python3.10/asyncio/base_events.py\", line 636, in run_until_complete\n",
      "    self.run_forever()\n",
      "  File \"/home/wgb/miniconda3/envs/llm-zoomcamp/lib/python3.10/asyncio/base_events.py\", line 603, in run_forever\n",
      "    self._run_once()\n",
      "  File \"/home/wgb/miniconda3/envs/llm-zoomcamp/lib/python3.10/asyncio/base_events.py\", line 1871, in _run_once\n",
      "    event_list = self._selector.select(timeout)\n",
      "  File \"/home/wgb/miniconda3/envs/llm-zoomcamp/lib/python3.10/selectors.py\", line 469, in select\n",
      "    fd_event_list = self._selector.poll(timeout, max_ev)\n",
      "  File \"/home/wgb/miniconda3/envs/llm-zoomcamp/lib/python3.10/site-packages/anyio/_backends/_asyncio.py\", line 257, in _on_sigint\n",
      "    raise KeyboardInterrupt()\n",
      "KeyboardInterrupt\n"
     ]
    }
   ],
   "source": [
    "!python weather_server.py"
   ]
  },
  {
   "cell_type": "markdown",
   "id": "19b8d43a",
   "metadata": {},
   "source": [
    "Let's ask the temperature in Berlin:\n",
    "```json\n",
    "{\"jsonrpc\": \"2.0\", \"id\": 3, \"method\": \"tools/call\", \"params\": {\"name\": \"get_weather\", \"arguments\": {\"city\": \"Berlin\"}}}\n",
    "```"
   ]
  },
  {
   "cell_type": "markdown",
   "id": "968f2276",
   "metadata": {},
   "source": [
    "Response:\n",
    "```json\n",
    "{\"jsonrpc\":\"2.0\",\"id\":3,\"result\":{\"content\":[{\"type\":\"text\",\"text\":\"20.0\"}],\"structuredContent\":{\"result\":20.0},\"isError\":false}}\n",
    "```\n"
   ]
  },
  {
   "cell_type": "markdown",
   "id": "9dfc267f",
   "metadata": {},
   "source": [
    "### Q6. Client"
   ]
  },
  {
   "cell_type": "code",
   "execution_count": 9,
   "id": "f84430c1",
   "metadata": {},
   "outputs": [
    {
     "name": "stdout",
     "output_type": "stream",
     "text": [
      "[Tool(name='get_weather', title=None, description='Retrieves the temperature for a specified city.\\n\\nParameters:\\n    city (str): The name of the city for which to retrieve weather data.\\n\\nReturns:\\n    float: The temperature associated with the city.', inputSchema={'properties': {'city': {'title': 'City', 'type': 'string'}}, 'required': ['city'], 'type': 'object'}, outputSchema={'properties': {'result': {'title': 'Result', 'type': 'number'}}, 'required': ['result'], 'title': '_WrappedResult', 'type': 'object', 'x-fastmcp-wrap-result': True}, annotations=None, meta=None), Tool(name='set_weather', title=None, description=\"Sets the temperature for a specified city.\\n\\nParameters:\\n    city (str): The name of the city for which to set the weather data.\\n    temp (float): The temperature to associate with the city.\\n\\nReturns:\\n    str: A confirmation string 'OK' indicating successful update.\", inputSchema={'properties': {'city': {'title': 'City', 'type': 'string'}, 'temp': {'title': 'Temp', 'type': 'number'}}, 'required': ['city', 'temp'], 'type': 'object'}, outputSchema=None, annotations=None, meta=None)]\n"
     ]
    }
   ],
   "source": [
    "from fastmcp import Client\n",
    "import weather_server\n",
    "\n",
    "async def main():\n",
    "    async with Client(weather_server.mcp) as mcp_client:\n",
    "        tools = await mcp_client.list_tools()\n",
    "        print(tools)\n",
    "\n",
    "await main()"
   ]
  }
 ],
 "metadata": {
  "kernelspec": {
   "display_name": "llm-zoomcamp",
   "language": "python",
   "name": "python3"
  },
  "language_info": {
   "codemirror_mode": {
    "name": "ipython",
    "version": 3
   },
   "file_extension": ".py",
   "mimetype": "text/x-python",
   "name": "python",
   "nbconvert_exporter": "python",
   "pygments_lexer": "ipython3",
   "version": "3.10.16"
  }
 },
 "nbformat": 4,
 "nbformat_minor": 5
}
