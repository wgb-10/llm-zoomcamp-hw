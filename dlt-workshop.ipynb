{
 "cells": [
  {
   "cell_type": "markdown",
   "id": "8ff5f3ca",
   "metadata": {},
   "source": [
    "# Workshop Homework"
   ]
  },
  {
   "cell_type": "markdown",
   "id": "a00965a4",
   "metadata": {},
   "source": [
    "## Question 1. dlt Version"
   ]
  },
  {
   "cell_type": "markdown",
   "id": "5770e79d",
   "metadata": {},
   "source": [
    "### Installing dlt with Qdrant"
   ]
  },
  {
   "cell_type": "code",
   "execution_count": 1,
   "id": "e5c43ec5",
   "metadata": {},
   "outputs": [],
   "source": [
    "!pip install -q \"dlt[qdrant]\" \"qdrant-client[fastembed]\""
   ]
  },
  {
   "cell_type": "code",
   "execution_count": 3,
   "id": "8dcc2b1d",
   "metadata": {},
   "outputs": [
    {
     "name": "stdout",
     "output_type": "stream",
     "text": [
      "1.12.3\n"
     ]
    }
   ],
   "source": [
    "import dlt\n",
    "\n",
    "print(dlt.__version__)"
   ]
  },
  {
   "cell_type": "markdown",
   "id": "5d1a11b3",
   "metadata": {},
   "source": [
    "### dlt Resource"
   ]
  },
  {
   "cell_type": "code",
   "execution_count": 5,
   "id": "cbba09ee",
   "metadata": {},
   "outputs": [],
   "source": [
    "import requests\n",
    "\n",
    "\n",
    "@dlt.resource(name=\"zoomcamp_data\", write_disposition='replace')\n",
    "def zoomcamp_data():\n",
    "    docs_url = \"https://github.com/alexeygrigorev/llm-rag-workshop/raw/main/notebooks/documents.json\"\n",
    "    docs_response = requests.get(docs_url)\n",
    "    documents_raw = docs_response.json()\n",
    "\n",
    "    for course in documents_raw:\n",
    "        course_name = course[\"course\"]\n",
    "\n",
    "        for doc in course[\"documents\"]:\n",
    "            doc[\"course\"] = course_name\n",
    "            yield doc"
   ]
  },
  {
   "cell_type": "markdown",
   "id": "b6a1209d",
   "metadata": {},
   "source": [
    "## Question 2. dlt pipeline"
   ]
  },
  {
   "cell_type": "code",
   "execution_count": 6,
   "id": "7fbe1f73",
   "metadata": {},
   "outputs": [],
   "source": [
    "from dlt.destinations import qdrant\n",
    "\n",
    "qdrant_destination = qdrant(qd_path='db.qdrant')"
   ]
  },
  {
   "cell_type": "code",
   "execution_count": 8,
   "id": "8cd9bcee",
   "metadata": {},
   "outputs": [
    {
     "data": {
      "application/vnd.jupyter.widget-view+json": {
       "model_id": "539c6c19df2e4e548b214a9883490807",
       "version_major": 2,
       "version_minor": 0
      },
      "text/plain": [
       "Fetching 5 files:   0%|          | 0/5 [00:00<?, ?it/s]"
      ]
     },
     "metadata": {},
     "output_type": "display_data"
    },
    {
     "data": {
      "application/vnd.jupyter.widget-view+json": {
       "model_id": "39d5e9bf341a4c9f87070f28260943c9",
       "version_major": 2,
       "version_minor": 0
      },
      "text/plain": [
       "config.json:   0%|          | 0.00/701 [00:00<?, ?B/s]"
      ]
     },
     "metadata": {},
     "output_type": "display_data"
    },
    {
     "data": {
      "application/vnd.jupyter.widget-view+json": {
       "model_id": "e357b271b42b48d0a360ab63e8b69a18",
       "version_major": 2,
       "version_minor": 0
      },
      "text/plain": [
       "tokenizer_config.json:   0%|          | 0.00/366 [00:00<?, ?B/s]"
      ]
     },
     "metadata": {},
     "output_type": "display_data"
    },
    {
     "data": {
      "application/vnd.jupyter.widget-view+json": {
       "model_id": "d8493dad82ce45238e7905d486c98679",
       "version_major": 2,
       "version_minor": 0
      },
      "text/plain": [
       "special_tokens_map.json:   0%|          | 0.00/125 [00:00<?, ?B/s]"
      ]
     },
     "metadata": {},
     "output_type": "display_data"
    },
    {
     "data": {
      "application/vnd.jupyter.widget-view+json": {
       "model_id": "c9e34e62857d449aa7da258cbd2337fa",
       "version_major": 2,
       "version_minor": 0
      },
      "text/plain": [
       "tokenizer.json: 0.00B [00:00, ?B/s]"
      ]
     },
     "metadata": {},
     "output_type": "display_data"
    },
    {
     "data": {
      "application/vnd.jupyter.widget-view+json": {
       "model_id": "6878fd4710064d579642c4a9eeb8eab3",
       "version_major": 2,
       "version_minor": 0
      },
      "text/plain": [
       "model_optimized.onnx:   0%|          | 0.00/133M [00:00<?, ?B/s]"
      ]
     },
     "metadata": {},
     "output_type": "display_data"
    },
    {
     "name": "stdout",
     "output_type": "stream",
     "text": [
      "Run started at 2025-07-06 12:27:28.856654+00:00 and COMPLETED in 15.75 seconds with 4 steps.\n",
      "Step extract COMPLETED in 1.18 seconds.\n",
      "\n",
      "Load package 1751804854.4238427 is EXTRACTED and NOT YET LOADED to the destination and contains no failed jobs\n",
      "\n",
      "Step normalize COMPLETED in 0.06 seconds.\n",
      "Normalized data for the following tables:\n",
      "- _dlt_pipeline_state: 1 row(s)\n",
      "- zoomcamp_data: 948 row(s)\n",
      "\n",
      "Load package 1751804854.4238427 is NORMALIZED and NOT YET LOADED to the destination and contains no failed jobs\n",
      "\n",
      "Step load COMPLETED in 8.94 seconds.\n",
      "Pipeline zoomcamp_pipeline load step completed in 8.93 seconds\n",
      "1 load package(s) were loaded to destination qdrant and into dataset zoomcamp_tagged_data\n",
      "The qdrant destination used /home/wgb/llm-zoomcamp-hw/db.qdrant location to store data\n",
      "Load package 1751804854.4238427 is LOADED and contains no failed jobs\n",
      "\n",
      "Step run COMPLETED in 15.75 seconds.\n",
      "Pipeline zoomcamp_pipeline load step completed in 8.93 seconds\n",
      "1 load package(s) were loaded to destination qdrant and into dataset zoomcamp_tagged_data\n",
      "The qdrant destination used /home/wgb/llm-zoomcamp-hw/db.qdrant location to store data\n",
      "Load package 1751804854.4238427 is LOADED and contains no failed jobs\n"
     ]
    }
   ],
   "source": [
    "pipeline = dlt.pipeline(pipeline_name=\"zoomcamp_pipeline\", destination=qdrant_destination, dataset_name=\"zoomcamp_tagged_data\")\n",
    "load_info = pipeline.run(zoomcamp_data())\n",
    "print(pipeline.last_trace)"
   ]
  },
  {
   "cell_type": "markdown",
   "id": "20da7cee",
   "metadata": {},
   "source": [
    "948 rows were inserted into the zoomcamp_data collection"
   ]
  },
  {
   "cell_type": "markdown",
   "id": "56bd68a6",
   "metadata": {},
   "source": [
    "### Question 3. Embeddings"
   ]
  },
  {
   "cell_type": "markdown",
   "id": "921b00b1",
   "metadata": {},
   "source": [
    "Since the meta.json file mentions `fast-bge-small-en`, the `BAAI/bge-small-en` embedding model was used."
   ]
  }
 ],
 "metadata": {
  "kernelspec": {
   "display_name": "llm-zoomcamp",
   "language": "python",
   "name": "python3"
  },
  "language_info": {
   "codemirror_mode": {
    "name": "ipython",
    "version": 3
   },
   "file_extension": ".py",
   "mimetype": "text/x-python",
   "name": "python",
   "nbconvert_exporter": "python",
   "pygments_lexer": "ipython3",
   "version": "3.10.16"
  }
 },
 "nbformat": 4,
 "nbformat_minor": 5
}
